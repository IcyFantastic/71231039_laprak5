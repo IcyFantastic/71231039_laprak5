{
 "cells": [
  {
   "cell_type": "markdown",
   "metadata": {},
   "source": [
    "Latihan 5.1"
   ]
  },
  {
   "cell_type": "code",
   "execution_count": 31,
   "metadata": {},
   "outputs": [
    {
     "name": "stdout",
     "output_type": "stream",
     "text": [
      "6 x 5 = 5 + 5 + 5 + 5 + 5 + 5 = 30\n"
     ]
    }
   ],
   "source": [
    "def perkalian(angka_pengali, angka_yang_dikali):\n",
    "    hasil = 0\n",
    "    print(f\"{angka_pengali} x {angka_yang_dikali} = \", end = \"\")\n",
    "    for i in range(1, angka_pengali + 1):\n",
    "        if i == angka_pengali:\n",
    "            print(f\"{angka_yang_dikali} = \", end = \"\")\n",
    "        else:\n",
    "            print(f\"{angka_yang_dikali} + \", end = \"\")\n",
    "        hasil = hasil + angka_yang_dikali\n",
    "    return(f\"{hasil}\")\n",
    "\n",
    "angka_pengali = int(input(\"Masukan Angka Untuk Pengalinya : \"))\n",
    "angka_yang_dikali = int(input(\"Masukan Angka Yang Ingin Dikali : \"))\n",
    "    \n",
    "print(perkalian(angka_pengali,angka_yang_dikali))"
   ]
  },
  {
   "cell_type": "markdown",
   "metadata": {},
   "source": [
    "Latihan 5.2"
   ]
  },
  {
   "cell_type": "code",
   "execution_count": 51,
   "metadata": {},
   "outputs": [
    {
     "name": "stdout",
     "output_type": "stream",
     "text": [
      "Bawah =  10\n",
      "Atas =  30\n",
      "11, 13, 15, 17, 19, 21, 23, 25, 27, 29\n"
     ]
    }
   ],
   "source": [
    "bawah = int(input(\"Masukan Batas Bawah : \"))\n",
    "print(\"Bawah = \", bawah)\n",
    "atas = int(input(\"Masukan Batas Atas : \"))\n",
    "print(\"Atas = \", atas)\n",
    "\n",
    "if bawah > atas:\n",
    "    for i in range(bawah, atas - 1, -1):\n",
    "        if i % 2 == 1:\n",
    "            if i == atas or i == atas + 1: \n",
    "                print(i)\n",
    "            else:\n",
    "                print(i, end = \", \")\n",
    "else:\n",
    "    for i in range(bawah, atas + 1):\n",
    "        if i % 2 == 1:\n",
    "            if i == atas or i == atas - 1:\n",
    "                print(i)\n",
    "            else:\n",
    "                print(i, end = \", \")\n"
   ]
  },
  {
   "cell_type": "markdown",
   "metadata": {},
   "source": [
    "Latihan 5.3"
   ]
  },
  {
   "cell_type": "code",
   "execution_count": 52,
   "metadata": {},
   "outputs": [
    {
     "name": "stdout",
     "output_type": "stream",
     "text": [
      "Nilai MK 1: A\n",
      "Nilai MK 2: B\n",
      "Nilai MK 3: C\n",
      "Nilai MK 4: A\n",
      "Nilai MK 5: D\n",
      "Nilai MK 6: C\n",
      "IPS Anda Di Semester Ini Adalah 2.67\n"
     ]
    }
   ],
   "source": [
    "matkul = int(input(\"Masukan Jumlah Matkul Anda Di Semester Ini : \"))\n",
    "kum_nilai = []\n",
    "jum_nilai = 0\n",
    "\n",
    "for i in range(matkul):\n",
    "    nilai = (input(f\"Masukan Nilai Matkul Anda Ke- {i + 1} (Gunakan Huruf Kapital): \"))\n",
    "    print(f\"Nilai MK {i + 1}:\", nilai)\n",
    "    kum_nilai.append(nilai)\n",
    "for i in range(matkul):\n",
    "    if kum_nilai[i] == \"A\" :\n",
    "        jum_nilai = jum_nilai + 4\n",
    "    elif kum_nilai[i] == \"B\":\n",
    "        jum_nilai = jum_nilai + 3\n",
    "    elif kum_nilai[i] == \"C\":\n",
    "        jum_nilai = jum_nilai + 2\n",
    "    elif kum_nilai[i] == \"D\":\n",
    "        jum_nilai = jum_nilai + 1\n",
    "    else:\n",
    "        print(\"Terdapat Kesalahan Input Data\")\n",
    "\n",
    "ips = float(jum_nilai * 3 / matkul / 3)\n",
    "print(f\"IPS Anda Di Semester Ini Adalah {ips:.2f}\")"
   ]
  }
 ],
 "metadata": {
  "kernelspec": {
   "display_name": "Python 3",
   "language": "python",
   "name": "python3"
  },
  "language_info": {
   "codemirror_mode": {
    "name": "ipython",
    "version": 3
   },
   "file_extension": ".py",
   "mimetype": "text/x-python",
   "name": "python",
   "nbconvert_exporter": "python",
   "pygments_lexer": "ipython3",
   "version": "3.12.0"
  }
 },
 "nbformat": 4,
 "nbformat_minor": 2
}
